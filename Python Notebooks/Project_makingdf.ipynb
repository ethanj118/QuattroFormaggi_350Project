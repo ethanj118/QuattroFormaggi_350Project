{
 "cells": [
  {
   "cell_type": "markdown",
   "id": "special-oxford",
   "metadata": {},
   "source": [
    "First we can clone the Github repo."
   ]
  },
  {
   "cell_type": "code",
   "execution_count": 1,
   "id": "associate-slide",
   "metadata": {},
   "outputs": [
    {
     "name": "stdout",
     "output_type": "stream",
     "text": [
      "Cloning into 'QuattroFormaggi_350Project'...\n",
      "remote: Enumerating objects: 155, done.\u001b[K\n",
      "remote: Counting objects: 100% (155/155), done.\u001b[K\n",
      "remote: Compressing objects: 100% (146/146), done.\u001b[K\n",
      "remote: Total 155 (delta 61), reused 0 (delta 0), pack-reused 0\u001b[K\n",
      "Receiving objects: 100% (155/155), 3.21 MiB | 21.59 MiB/s, done.\n",
      "Resolving deltas: 100% (61/61), done.\n"
     ]
    }
   ],
   "source": [
    "!git clone https://github.com/ethanj118/QuattroFormaggi_350Project.git"
   ]
  },
  {
   "cell_type": "code",
   "execution_count": null,
   "id": "earlier-thesaurus",
   "metadata": {},
   "outputs": [],
   "source": [
    "We can use the ls command to check that it was successful."
   ]
  },
  {
   "cell_type": "code",
   "execution_count": 12,
   "id": "serious-fever",
   "metadata": {},
   "outputs": [
    {
     "name": "stdout",
     "output_type": "stream",
     "text": [
      "AWS-Transcribe-Guide.ipynb  lecture.pem\n",
      "css\t\t\t    load.php\n",
      "db-update.php\t\t    lost+found\n",
      "fonts\t\t\t    __MACOSX\n",
      "get-cpu-load.php\t    menu.php\n",
      "get-index-meta-data.php     old quiz things\n",
      "google-python-exercises     old transcribe results jsons\n",
      "IMG_1042.jpg\t\t    pictures\n",
      "IMG_1043.jpg\t\t    project_recordings\n",
      "IMG_1045.jpg\t\t    proposaltranscribe.html\n",
      "IMG_1046.jpg\t\t    proposaltranscribe.ipynb\n",
      "IMG_1047.jpg\t\t    proposaltranscribe_pitchchange.ipynb\n",
      "IMG_1055.jpg\t\t    put-cpu-load.php\n",
      "IMG_1056.jpg\t\t    QF_HW2_Final.html\n",
      "IMG_1057.jpg\t\t    QF_HW2_Final.ipynb\n",
      "IMG_1058.jpg\t\t    qtm350\n",
      "IMG_1059.jpg\t\t    QuattroFormaggi_350Project\n",
      "IMG_1060.jpg\t\t    rds-config.php\n",
      "IMG_1061.jpg\t\t    rds.conf.php\n",
      "IMG_1062.jpg\t\t    rds.php\n",
      "IMG_1063.jpg\t\t    rds-read-data.php\n",
      "IMG_1064.jpg\t\t    rds-write-config.php\n",
      "IMG_1065.jpg\t\t    sql\n",
      "IMG_1066.jpg\t\t    style.css\n",
      "IMG_1067.jpg\t\t    tapeformat.doc\n",
      "IMG_1068.jpg\t\t    test-start-command\n",
      "IMG_1069.jpg\t\t    test-start-command.json\n",
      "index.html\t\t    Untitled1.ipynb\n",
      "index.php\t\t    Untitled2.ipynb\n",
      "js\t\t\t    Untitled Folder\n",
      "lab-app.zip\t\t    Untitled.ipynb\n",
      "labsuser.pem\n"
     ]
    }
   ],
   "source": [
    "!ls"
   ]
  },
  {
   "cell_type": "markdown",
   "id": "useful-election",
   "metadata": {},
   "source": [
    "We moved the image files into the main SageMaker directory and created a bucket."
   ]
  },
  {
   "cell_type": "code",
   "execution_count": 14,
   "id": "virtual-flight",
   "metadata": {},
   "outputs": [
    {
     "name": "stdout",
     "output_type": "stream",
     "text": [
      "make_bucket: rekognition-project-files-2\n"
     ]
    }
   ],
   "source": [
    "!aws s3 mb s3://rekognition-project-files-2"
   ]
  },
  {
   "cell_type": "markdown",
   "id": "raising-calculator",
   "metadata": {},
   "source": [
    "Now we can move all the images to the bucket."
   ]
  },
  {
   "cell_type": "code",
   "execution_count": 16,
   "id": "robust-album",
   "metadata": {},
   "outputs": [
    {
     "name": "stdout",
     "output_type": "stream",
     "text": [
      "move: ./IMG_1042.jpg to s3://rekognition-project-files-2/IMG_1042.jpg\n",
      "move: ./IMG_1043.jpg to s3://rekognition-project-files-2/IMG_1043.jpg\n",
      "move: ./IMG_1045.jpg to s3://rekognition-project-files-2/IMG_1045.jpg\n",
      "move: ./IMG_1046.jpg to s3://rekognition-project-files-2/IMG_1046.jpg\n",
      "move: ./IMG_1047.jpg to s3://rekognition-project-files-2/IMG_1047.jpg\n",
      "move: ./IMG_1055.jpg to s3://rekognition-project-files-2/IMG_1055.jpg\n",
      "move: ./IMG_1056.jpg to s3://rekognition-project-files-2/IMG_1056.jpg\n",
      "move: ./IMG_1057.jpg to s3://rekognition-project-files-2/IMG_1057.jpg\n",
      "move: ./IMG_1058.jpg to s3://rekognition-project-files-2/IMG_1058.jpg\n",
      "move: ./IMG_1059.jpg to s3://rekognition-project-files-2/IMG_1059.jpg\n",
      "move: ./IMG_1060.jpg to s3://rekognition-project-files-2/IMG_1060.jpg\n",
      "move: ./IMG_1061.jpg to s3://rekognition-project-files-2/IMG_1061.jpg\n",
      "move: ./IMG_1062.jpg to s3://rekognition-project-files-2/IMG_1062.jpg\n",
      "move: ./IMG_1063.jpg to s3://rekognition-project-files-2/IMG_1063.jpg\n",
      "move: ./IMG_1064.jpg to s3://rekognition-project-files-2/IMG_1064.jpg\n",
      "move: ./IMG_1065.jpg to s3://rekognition-project-files-2/IMG_1065.jpg\n",
      "move: ./IMG_1066.jpg to s3://rekognition-project-files-2/IMG_1066.jpg\n",
      "move: ./IMG_1067.jpg to s3://rekognition-project-files-2/IMG_1067.jpg\n",
      "move: ./IMG_1068.jpg to s3://rekognition-project-files-2/IMG_1068.jpg\n",
      "move: ./IMG_1069.jpg to s3://rekognition-project-files-2/IMG_1069.jpg\n"
     ]
    }
   ],
   "source": [
    "!aws s3 mv IMG_1042.jpg s3://rekognition-project-files-2\n",
    "!aws s3 mv IMG_1043.jpg s3://rekognition-project-files-2\n",
    "!aws s3 mv IMG_1045.jpg s3://rekognition-project-files-2\n",
    "!aws s3 mv IMG_1046.jpg s3://rekognition-project-files-2\n",
    "!aws s3 mv IMG_1047.jpg s3://rekognition-project-files-2\n",
    "!aws s3 mv IMG_1055.jpg s3://rekognition-project-files-2\n",
    "!aws s3 mv IMG_1056.jpg s3://rekognition-project-files-2\n",
    "!aws s3 mv IMG_1057.jpg s3://rekognition-project-files-2\n",
    "!aws s3 mv IMG_1058.jpg s3://rekognition-project-files-2\n",
    "!aws s3 mv IMG_1059.jpg s3://rekognition-project-files-2\n",
    "!aws s3 mv IMG_1060.jpg s3://rekognition-project-files-2\n",
    "!aws s3 mv IMG_1061.jpg s3://rekognition-project-files-2\n",
    "!aws s3 mv IMG_1062.jpg s3://rekognition-project-files-2\n",
    "!aws s3 mv IMG_1063.jpg s3://rekognition-project-files-2\n",
    "!aws s3 mv IMG_1064.jpg s3://rekognition-project-files-2\n",
    "!aws s3 mv IMG_1065.jpg s3://rekognition-project-files-2\n",
    "!aws s3 mv IMG_1066.jpg s3://rekognition-project-files-2\n",
    "!aws s3 mv IMG_1067.jpg s3://rekognition-project-files-2\n",
    "!aws s3 mv IMG_1068.jpg s3://rekognition-project-files-2\n",
    "!aws s3 mv IMG_1069.jpg s3://rekognition-project-files-2"
   ]
  },
  {
   "cell_type": "markdown",
   "id": "negative-consideration",
   "metadata": {},
   "source": [
    "Now we import the boto3 client to use Rekognition in this notebook."
   ]
  },
  {
   "cell_type": "code",
   "execution_count": 17,
   "id": "suburban-evaluation",
   "metadata": {},
   "outputs": [],
   "source": [
    "import boto3\n",
    "client = boto3.client('rekognition')"
   ]
  },
  {
   "cell_type": "markdown",
   "id": "insured-advisory",
   "metadata": {},
   "source": [
    "Now, we can import the .csv file that contains our predictions for the emotions of each image.\n",
    "We can also use Rekognition on each image and start to generate the column of data that contains the Rekognition confidence output.\n"
   ]
  },
  {
   "cell_type": "code",
   "execution_count": 20,
   "id": "thousand-record",
   "metadata": {},
   "outputs": [],
   "source": [
    "import pandas as pd\n",
    "data = pd.read_csv(\"QTM_350_unfilled.csv\")"
   ]
  },
  {
   "cell_type": "code",
   "execution_count": 19,
   "id": "foreign-series",
   "metadata": {},
   "outputs": [
    {
     "data": {
      "text/plain": [
       "[{'Type': 'CALM', 'Confidence': 99.43953704833984},\n",
       " {'Type': 'SAD', 'Confidence': 0.23518812656402588},\n",
       " {'Type': 'ANGRY', 'Confidence': 0.10780179500579834},\n",
       " {'Type': 'HAPPY', 'Confidence': 0.06870588660240173},\n",
       " {'Type': 'DISGUSTED', 'Confidence': 0.06656120717525482},\n",
       " {'Type': 'FEAR', 'Confidence': 0.033991359174251556},\n",
       " {'Type': 'CONFUSED', 'Confidence': 0.02917313016951084},\n",
       " {'Type': 'SURPRISED', 'Confidence': 0.019049547612667084}]"
      ]
     },
     "execution_count": 19,
     "metadata": {},
     "output_type": "execute_result"
    }
   ],
   "source": [
    "IMG_1042 = client.detect_faces(Image = {'S3Object':{'Bucket':'rekognition-project-files-2','Name':'IMG_1042.jpg'}}, Attributes = [\"ALL\"])\n",
    "IMG_1042['FaceDetails'][0]['Emotions']"
   ]
  },
  {
   "cell_type": "code",
   "execution_count": 29,
   "id": "fifth-faith",
   "metadata": {},
   "outputs": [
    {
     "data": {
      "text/html": [
       "<div>\n",
       "<style scoped>\n",
       "    .dataframe tbody tr th:only-of-type {\n",
       "        vertical-align: middle;\n",
       "    }\n",
       "\n",
       "    .dataframe tbody tr th {\n",
       "        vertical-align: top;\n",
       "    }\n",
       "\n",
       "    .dataframe thead th {\n",
       "        text-align: right;\n",
       "    }\n",
       "</style>\n",
       "<table border=\"1\" class=\"dataframe\">\n",
       "  <thead>\n",
       "    <tr style=\"text-align: right;\">\n",
       "      <th></th>\n",
       "      <th>Images</th>\n",
       "      <th>Happy</th>\n",
       "      <th>Confused</th>\n",
       "      <th>Calm</th>\n",
       "      <th>Sad</th>\n",
       "      <th>Fear</th>\n",
       "      <th>Angry</th>\n",
       "      <th>Surprised</th>\n",
       "      <th>Disgusted</th>\n",
       "      <th>Our correct guess</th>\n",
       "      <th>Rekognition's correct guess</th>\n",
       "      <th>Answer</th>\n",
       "    </tr>\n",
       "  </thead>\n",
       "  <tbody>\n",
       "    <tr>\n",
       "      <th>0</th>\n",
       "      <td>IMG_1042.jpg</td>\n",
       "      <td>0</td>\n",
       "      <td>25</td>\n",
       "      <td>0</td>\n",
       "      <td>75</td>\n",
       "      <td>0</td>\n",
       "      <td>0</td>\n",
       "      <td>0</td>\n",
       "      <td>0</td>\n",
       "      <td>75</td>\n",
       "      <td>99.0</td>\n",
       "      <td>Sad</td>\n",
       "    </tr>\n",
       "    <tr>\n",
       "      <th>1</th>\n",
       "      <td>IMG_1043.jpg</td>\n",
       "      <td>25</td>\n",
       "      <td>0</td>\n",
       "      <td>75</td>\n",
       "      <td>0</td>\n",
       "      <td>0</td>\n",
       "      <td>0</td>\n",
       "      <td>0</td>\n",
       "      <td>0</td>\n",
       "      <td>75</td>\n",
       "      <td>NaN</td>\n",
       "      <td>Calm</td>\n",
       "    </tr>\n",
       "    <tr>\n",
       "      <th>2</th>\n",
       "      <td>IMG_1045.jpg</td>\n",
       "      <td>0</td>\n",
       "      <td>25</td>\n",
       "      <td>50</td>\n",
       "      <td>25</td>\n",
       "      <td>0</td>\n",
       "      <td>0</td>\n",
       "      <td>0</td>\n",
       "      <td>0</td>\n",
       "      <td>25</td>\n",
       "      <td>NaN</td>\n",
       "      <td>Confused</td>\n",
       "    </tr>\n",
       "    <tr>\n",
       "      <th>3</th>\n",
       "      <td>IMG_1046.jpg</td>\n",
       "      <td>25</td>\n",
       "      <td>0</td>\n",
       "      <td>0</td>\n",
       "      <td>0</td>\n",
       "      <td>25</td>\n",
       "      <td>25</td>\n",
       "      <td>0</td>\n",
       "      <td>25</td>\n",
       "      <td>0</td>\n",
       "      <td>NaN</td>\n",
       "      <td>Confused</td>\n",
       "    </tr>\n",
       "    <tr>\n",
       "      <th>4</th>\n",
       "      <td>IMG_1047.jpg</td>\n",
       "      <td>25</td>\n",
       "      <td>0</td>\n",
       "      <td>0</td>\n",
       "      <td>0</td>\n",
       "      <td>0</td>\n",
       "      <td>0</td>\n",
       "      <td>75</td>\n",
       "      <td>0</td>\n",
       "      <td>75</td>\n",
       "      <td>NaN</td>\n",
       "      <td>Surprised</td>\n",
       "    </tr>\n",
       "    <tr>\n",
       "      <th>5</th>\n",
       "      <td>IMG_1055.jpg</td>\n",
       "      <td>0</td>\n",
       "      <td>25</td>\n",
       "      <td>0</td>\n",
       "      <td>50</td>\n",
       "      <td>25</td>\n",
       "      <td>0</td>\n",
       "      <td>0</td>\n",
       "      <td>0</td>\n",
       "      <td>0</td>\n",
       "      <td>NaN</td>\n",
       "      <td>Surprised</td>\n",
       "    </tr>\n",
       "    <tr>\n",
       "      <th>6</th>\n",
       "      <td>IMG_1056.jpg</td>\n",
       "      <td>0</td>\n",
       "      <td>25</td>\n",
       "      <td>0</td>\n",
       "      <td>75</td>\n",
       "      <td>0</td>\n",
       "      <td>0</td>\n",
       "      <td>0</td>\n",
       "      <td>0</td>\n",
       "      <td>25</td>\n",
       "      <td>NaN</td>\n",
       "      <td>Confused</td>\n",
       "    </tr>\n",
       "    <tr>\n",
       "      <th>7</th>\n",
       "      <td>IMG_1057.jpg</td>\n",
       "      <td>0</td>\n",
       "      <td>0</td>\n",
       "      <td>0</td>\n",
       "      <td>0</td>\n",
       "      <td>0</td>\n",
       "      <td>50</td>\n",
       "      <td>0</td>\n",
       "      <td>50</td>\n",
       "      <td>50</td>\n",
       "      <td>NaN</td>\n",
       "      <td>Disgusted</td>\n",
       "    </tr>\n",
       "    <tr>\n",
       "      <th>8</th>\n",
       "      <td>IMG_1058.jpg</td>\n",
       "      <td>25</td>\n",
       "      <td>0</td>\n",
       "      <td>0</td>\n",
       "      <td>0</td>\n",
       "      <td>0</td>\n",
       "      <td>0</td>\n",
       "      <td>75</td>\n",
       "      <td>0</td>\n",
       "      <td>25</td>\n",
       "      <td>NaN</td>\n",
       "      <td>Happy</td>\n",
       "    </tr>\n",
       "    <tr>\n",
       "      <th>9</th>\n",
       "      <td>IMG_1059.jpg</td>\n",
       "      <td>25</td>\n",
       "      <td>25</td>\n",
       "      <td>0</td>\n",
       "      <td>0</td>\n",
       "      <td>0</td>\n",
       "      <td>0</td>\n",
       "      <td>50</td>\n",
       "      <td>0</td>\n",
       "      <td>0</td>\n",
       "      <td>NaN</td>\n",
       "      <td>Calm</td>\n",
       "    </tr>\n",
       "    <tr>\n",
       "      <th>10</th>\n",
       "      <td>IMG_1060.jpg</td>\n",
       "      <td>0</td>\n",
       "      <td>0</td>\n",
       "      <td>0</td>\n",
       "      <td>0</td>\n",
       "      <td>100</td>\n",
       "      <td>0</td>\n",
       "      <td>0</td>\n",
       "      <td>0</td>\n",
       "      <td>100</td>\n",
       "      <td>NaN</td>\n",
       "      <td>Fear</td>\n",
       "    </tr>\n",
       "    <tr>\n",
       "      <th>11</th>\n",
       "      <td>IMG_1061.jpg</td>\n",
       "      <td>0</td>\n",
       "      <td>0</td>\n",
       "      <td>0</td>\n",
       "      <td>0</td>\n",
       "      <td>0</td>\n",
       "      <td>50</td>\n",
       "      <td>0</td>\n",
       "      <td>50</td>\n",
       "      <td>50</td>\n",
       "      <td>NaN</td>\n",
       "      <td>Disgusted</td>\n",
       "    </tr>\n",
       "    <tr>\n",
       "      <th>12</th>\n",
       "      <td>IMG_1062.jpg</td>\n",
       "      <td>0</td>\n",
       "      <td>0</td>\n",
       "      <td>100</td>\n",
       "      <td>0</td>\n",
       "      <td>0</td>\n",
       "      <td>0</td>\n",
       "      <td>0</td>\n",
       "      <td>0</td>\n",
       "      <td>100</td>\n",
       "      <td>NaN</td>\n",
       "      <td>Calm</td>\n",
       "    </tr>\n",
       "    <tr>\n",
       "      <th>13</th>\n",
       "      <td>IMG_1063.jpg</td>\n",
       "      <td>25</td>\n",
       "      <td>0</td>\n",
       "      <td>0</td>\n",
       "      <td>0</td>\n",
       "      <td>0</td>\n",
       "      <td>0</td>\n",
       "      <td>75</td>\n",
       "      <td>0</td>\n",
       "      <td>25</td>\n",
       "      <td>NaN</td>\n",
       "      <td>Surprised</td>\n",
       "    </tr>\n",
       "    <tr>\n",
       "      <th>14</th>\n",
       "      <td>IMG_1064.jpg</td>\n",
       "      <td>0</td>\n",
       "      <td>25</td>\n",
       "      <td>25</td>\n",
       "      <td>25</td>\n",
       "      <td>0</td>\n",
       "      <td>0</td>\n",
       "      <td>25</td>\n",
       "      <td>0</td>\n",
       "      <td>25</td>\n",
       "      <td>NaN</td>\n",
       "      <td>Sad</td>\n",
       "    </tr>\n",
       "    <tr>\n",
       "      <th>15</th>\n",
       "      <td>IMG_1065.jpg</td>\n",
       "      <td>0</td>\n",
       "      <td>0</td>\n",
       "      <td>0</td>\n",
       "      <td>25</td>\n",
       "      <td>25</td>\n",
       "      <td>25</td>\n",
       "      <td>0</td>\n",
       "      <td>25</td>\n",
       "      <td>25</td>\n",
       "      <td>NaN</td>\n",
       "      <td>Angry</td>\n",
       "    </tr>\n",
       "    <tr>\n",
       "      <th>16</th>\n",
       "      <td>IMG_1066.jpg</td>\n",
       "      <td>0</td>\n",
       "      <td>50</td>\n",
       "      <td>25</td>\n",
       "      <td>25</td>\n",
       "      <td>0</td>\n",
       "      <td>0</td>\n",
       "      <td>0</td>\n",
       "      <td>0</td>\n",
       "      <td>25</td>\n",
       "      <td>NaN</td>\n",
       "      <td>Sad</td>\n",
       "    </tr>\n",
       "    <tr>\n",
       "      <th>17</th>\n",
       "      <td>IMG_1067.jpg</td>\n",
       "      <td>0</td>\n",
       "      <td>0</td>\n",
       "      <td>0</td>\n",
       "      <td>0</td>\n",
       "      <td>0</td>\n",
       "      <td>100</td>\n",
       "      <td>0</td>\n",
       "      <td>0</td>\n",
       "      <td>100</td>\n",
       "      <td>NaN</td>\n",
       "      <td>Angry</td>\n",
       "    </tr>\n",
       "    <tr>\n",
       "      <th>18</th>\n",
       "      <td>IMG_1068.jpg</td>\n",
       "      <td>0</td>\n",
       "      <td>0</td>\n",
       "      <td>0</td>\n",
       "      <td>100</td>\n",
       "      <td>0</td>\n",
       "      <td>0</td>\n",
       "      <td>0</td>\n",
       "      <td>0</td>\n",
       "      <td>100</td>\n",
       "      <td>NaN</td>\n",
       "      <td>Sad</td>\n",
       "    </tr>\n",
       "    <tr>\n",
       "      <th>19</th>\n",
       "      <td>IMG_1069.jpg</td>\n",
       "      <td>0</td>\n",
       "      <td>0</td>\n",
       "      <td>0</td>\n",
       "      <td>25</td>\n",
       "      <td>75</td>\n",
       "      <td>0</td>\n",
       "      <td>0</td>\n",
       "      <td>0</td>\n",
       "      <td>75</td>\n",
       "      <td>NaN</td>\n",
       "      <td>Fear</td>\n",
       "    </tr>\n",
       "  </tbody>\n",
       "</table>\n",
       "</div>"
      ],
      "text/plain": [
       "          Images  Happy  Confused  Calm  Sad  Fear  Angry  Surprised  \\\n",
       "0   IMG_1042.jpg      0        25     0   75     0      0          0   \n",
       "1   IMG_1043.jpg     25         0    75    0     0      0          0   \n",
       "2   IMG_1045.jpg      0        25    50   25     0      0          0   \n",
       "3   IMG_1046.jpg     25         0     0    0    25     25          0   \n",
       "4   IMG_1047.jpg     25         0     0    0     0      0         75   \n",
       "5   IMG_1055.jpg      0        25     0   50    25      0          0   \n",
       "6   IMG_1056.jpg      0        25     0   75     0      0          0   \n",
       "7   IMG_1057.jpg      0         0     0    0     0     50          0   \n",
       "8   IMG_1058.jpg     25         0     0    0     0      0         75   \n",
       "9   IMG_1059.jpg     25        25     0    0     0      0         50   \n",
       "10  IMG_1060.jpg      0         0     0    0   100      0          0   \n",
       "11  IMG_1061.jpg      0         0     0    0     0     50          0   \n",
       "12  IMG_1062.jpg      0         0   100    0     0      0          0   \n",
       "13  IMG_1063.jpg     25         0     0    0     0      0         75   \n",
       "14  IMG_1064.jpg      0        25    25   25     0      0         25   \n",
       "15  IMG_1065.jpg      0         0     0   25    25     25          0   \n",
       "16  IMG_1066.jpg      0        50    25   25     0      0          0   \n",
       "17  IMG_1067.jpg      0         0     0    0     0    100          0   \n",
       "18  IMG_1068.jpg      0         0     0  100     0      0          0   \n",
       "19  IMG_1069.jpg      0         0     0   25    75      0          0   \n",
       "\n",
       "    Disgusted  Our correct guess  Rekognition's correct guess     Answer  \n",
       "0           0                 75                         99.0        Sad  \n",
       "1           0                 75                          NaN       Calm  \n",
       "2           0                 25                          NaN   Confused  \n",
       "3          25                  0                          NaN   Confused  \n",
       "4           0                 75                          NaN  Surprised  \n",
       "5           0                  0                          NaN  Surprised  \n",
       "6           0                 25                          NaN   Confused  \n",
       "7          50                 50                          NaN  Disgusted  \n",
       "8           0                 25                          NaN      Happy  \n",
       "9           0                  0                          NaN       Calm  \n",
       "10          0                100                          NaN       Fear  \n",
       "11         50                 50                          NaN  Disgusted  \n",
       "12          0                100                          NaN       Calm  \n",
       "13          0                 25                          NaN  Surprised  \n",
       "14          0                 25                          NaN        Sad  \n",
       "15         25                 25                          NaN      Angry  \n",
       "16          0                 25                          NaN        Sad  \n",
       "17          0                100                          NaN      Angry  \n",
       "18          0                100                          NaN        Sad  \n",
       "19          0                 75                          NaN       Fear  "
      ]
     },
     "execution_count": 29,
     "metadata": {},
     "output_type": "execute_result"
    }
   ],
   "source": [
    "data"
   ]
  },
  {
   "cell_type": "markdown",
   "id": "spread-xerox",
   "metadata": {},
   "source": [
    "Now, we can begin making replacing the NaN values in the dataframe. We will replace them with the confidence level from the Rekognition output that we listed as our correct answer."
   ]
  },
  {
   "cell_type": "markdown",
   "id": "pharmaceutical-resort",
   "metadata": {},
   "source": [
    "For the first image, we saw that our answer was \"sad\", and Rekognition returned a confidence value of 0.235 for \"sad\". We can initialize a list where the first value is 0.235."
   ]
  },
  {
   "cell_type": "code",
   "execution_count": 47,
   "id": "daily-spencer",
   "metadata": {},
   "outputs": [],
   "source": [
    "Rekognition_correct_guess = [0.235]"
   ]
  },
  {
   "cell_type": "markdown",
   "id": "universal-tongue",
   "metadata": {},
   "source": [
    "Now we can call Rekognition for the second image in our dataframe."
   ]
  },
  {
   "cell_type": "code",
   "execution_count": 38,
   "id": "sustained-advertising",
   "metadata": {},
   "outputs": [
    {
     "data": {
      "text/plain": [
       "[{'Type': 'CALM', 'Confidence': 79.89988708496094},\n",
       " {'Type': 'CONFUSED', 'Confidence': 16.77174949645996},\n",
       " {'Type': 'SAD', 'Confidence': 1.089778184890747},\n",
       " {'Type': 'HAPPY', 'Confidence': 0.713644802570343},\n",
       " {'Type': 'SURPRISED', 'Confidence': 0.6427294611930847},\n",
       " {'Type': 'ANGRY', 'Confidence': 0.415435791015625},\n",
       " {'Type': 'DISGUSTED', 'Confidence': 0.37100210785865784},\n",
       " {'Type': 'FEAR', 'Confidence': 0.09575877338647842}]"
      ]
     },
     "execution_count": 38,
     "metadata": {},
     "output_type": "execute_result"
    }
   ],
   "source": [
    "IMG_1043 = client.detect_faces(Image = {'S3Object':{'Bucket':'rekognition-project-files-2','Name':'IMG_1043.jpg'}}, Attributes = [\"ALL\"])\n",
    "IMG_1043['FaceDetails'][0]['Emotions']"
   ]
  },
  {
   "cell_type": "markdown",
   "id": "valid-smooth",
   "metadata": {},
   "source": [
    "For the second image, our guess was calm. This time, Rekognition returned a high confidence value for calm of 79.900. We can use the append function to add this to our list. We will carry on in this way for the rest of the images."
   ]
  },
  {
   "cell_type": "code",
   "execution_count": 48,
   "id": "laden-adoption",
   "metadata": {},
   "outputs": [],
   "source": [
    "Rekognition_correct_guess.append(79.900)"
   ]
  },
  {
   "cell_type": "code",
   "execution_count": 42,
   "id": "irish-falls",
   "metadata": {},
   "outputs": [
    {
     "data": {
      "text/plain": [
       "[{'Type': 'CALM', 'Confidence': 97.23758697509766},\n",
       " {'Type': 'CONFUSED', 'Confidence': 0.7818987369537354},\n",
       " {'Type': 'SURPRISED', 'Confidence': 0.6027401685714722},\n",
       " {'Type': 'SAD', 'Confidence': 0.5242825746536255},\n",
       " {'Type': 'ANGRY', 'Confidence': 0.30636218190193176},\n",
       " {'Type': 'DISGUSTED', 'Confidence': 0.21204327046871185},\n",
       " {'Type': 'FEAR', 'Confidence': 0.18689218163490295},\n",
       " {'Type': 'HAPPY', 'Confidence': 0.1481969952583313}]"
      ]
     },
     "execution_count": 42,
     "metadata": {},
     "output_type": "execute_result"
    }
   ],
   "source": [
    "IMG_1045 = client.detect_faces(Image = {'S3Object':{'Bucket':'rekognition-project-files-2','Name':'IMG_1045.jpg'}}, Attributes = [\"ALL\"])\n",
    "IMG_1045['FaceDetails'][0]['Emotions']"
   ]
  },
  {
   "cell_type": "code",
   "execution_count": 49,
   "id": "seventh-oregon",
   "metadata": {},
   "outputs": [],
   "source": [
    "Rekognition_correct_guess.append(0.782)"
   ]
  },
  {
   "cell_type": "code",
   "execution_count": 43,
   "id": "czech-linux",
   "metadata": {},
   "outputs": [
    {
     "data": {
      "text/plain": [
       "[{'Type': 'CALM', 'Confidence': 61.49021530151367},\n",
       " {'Type': 'CONFUSED', 'Confidence': 27.107112884521484},\n",
       " {'Type': 'SAD', 'Confidence': 3.6722257137298584},\n",
       " {'Type': 'HAPPY', 'Confidence': 2.0957190990448},\n",
       " {'Type': 'FEAR', 'Confidence': 2.0604946613311768},\n",
       " {'Type': 'SURPRISED', 'Confidence': 1.7655481100082397},\n",
       " {'Type': 'DISGUSTED', 'Confidence': 0.9498981833457947},\n",
       " {'Type': 'ANGRY', 'Confidence': 0.8587844371795654}]"
      ]
     },
     "execution_count": 43,
     "metadata": {},
     "output_type": "execute_result"
    }
   ],
   "source": [
    "IMG_1046 = client.detect_faces(Image = {'S3Object':{'Bucket':'rekognition-project-files-2','Name':'IMG_1046.jpg'}}, Attributes = [\"ALL\"])\n",
    "IMG_1046['FaceDetails'][0]['Emotions']"
   ]
  },
  {
   "cell_type": "code",
   "execution_count": 50,
   "id": "buried-alberta",
   "metadata": {},
   "outputs": [],
   "source": [
    "Rekognition_correct_guess.append(27.107)"
   ]
  },
  {
   "cell_type": "code",
   "execution_count": 44,
   "id": "partial-representation",
   "metadata": {},
   "outputs": [
    {
     "data": {
      "text/plain": [
       "[{'Type': 'SURPRISED', 'Confidence': 63.8047981262207},\n",
       " {'Type': 'CALM', 'Confidence': 18.397594451904297},\n",
       " {'Type': 'CONFUSED', 'Confidence': 14.953935623168945},\n",
       " {'Type': 'HAPPY', 'Confidence': 1.2657012939453125},\n",
       " {'Type': 'SAD', 'Confidence': 0.6036913990974426},\n",
       " {'Type': 'ANGRY', 'Confidence': 0.4299957752227783},\n",
       " {'Type': 'DISGUSTED', 'Confidence': 0.3010987639427185},\n",
       " {'Type': 'FEAR', 'Confidence': 0.2431875318288803}]"
      ]
     },
     "execution_count": 44,
     "metadata": {},
     "output_type": "execute_result"
    }
   ],
   "source": [
    "IMG_1047 = client.detect_faces(Image = {'S3Object':{'Bucket':'rekognition-project-files-2','Name':'IMG_1047.jpg'}}, Attributes = [\"ALL\"])\n",
    "IMG_1047['FaceDetails'][0]['Emotions']"
   ]
  },
  {
   "cell_type": "code",
   "execution_count": 51,
   "id": "economic-trinity",
   "metadata": {},
   "outputs": [],
   "source": [
    "Rekognition_correct_guess.append(63.805)"
   ]
  },
  {
   "cell_type": "code",
   "execution_count": 53,
   "id": "surgical-might",
   "metadata": {},
   "outputs": [
    {
     "data": {
      "text/plain": [
       "[{'Type': 'CONFUSED', 'Confidence': 89.40301513671875},\n",
       " {'Type': 'SURPRISED', 'Confidence': 3.5114638805389404},\n",
       " {'Type': 'CALM', 'Confidence': 3.5093188285827637},\n",
       " {'Type': 'FEAR', 'Confidence': 1.3630900382995605},\n",
       " {'Type': 'HAPPY', 'Confidence': 0.6534473299980164},\n",
       " {'Type': 'DISGUSTED', 'Confidence': 0.6414825916290283},\n",
       " {'Type': 'ANGRY', 'Confidence': 0.4684118926525116},\n",
       " {'Type': 'SAD', 'Confidence': 0.4497750997543335}]"
      ]
     },
     "execution_count": 53,
     "metadata": {},
     "output_type": "execute_result"
    }
   ],
   "source": [
    "IMG_1055 = client.detect_faces(Image = {'S3Object':{'Bucket':'rekognition-project-files-2','Name':'IMG_1055.jpg'}}, Attributes = [\"ALL\"])\n",
    "IMG_1055['FaceDetails'][0]['Emotions']"
   ]
  },
  {
   "cell_type": "code",
   "execution_count": 54,
   "id": "obvious-latino",
   "metadata": {},
   "outputs": [],
   "source": [
    "Rekognition_correct_guess.append(3.511)"
   ]
  },
  {
   "cell_type": "code",
   "execution_count": 55,
   "id": "northern-auditor",
   "metadata": {},
   "outputs": [
    {
     "data": {
      "text/plain": [
       "[{'Type': 'CONFUSED', 'Confidence': 60.973731994628906},\n",
       " {'Type': 'SAD', 'Confidence': 30.80183219909668},\n",
       " {'Type': 'CALM', 'Confidence': 5.437302112579346},\n",
       " {'Type': 'ANGRY', 'Confidence': 1.22163987159729},\n",
       " {'Type': 'SURPRISED', 'Confidence': 0.6818298101425171},\n",
       " {'Type': 'DISGUSTED', 'Confidence': 0.4643317461013794},\n",
       " {'Type': 'FEAR', 'Confidence': 0.30420705676078796},\n",
       " {'Type': 'HAPPY', 'Confidence': 0.1151275560259819}]"
      ]
     },
     "execution_count": 55,
     "metadata": {},
     "output_type": "execute_result"
    }
   ],
   "source": [
    "IMG_1056 = client.detect_faces(Image = {'S3Object':{'Bucket':'rekognition-project-files-2','Name':'IMG_1056.jpg'}}, Attributes = [\"ALL\"])\n",
    "IMG_1056['FaceDetails'][0]['Emotions']"
   ]
  },
  {
   "cell_type": "code",
   "execution_count": 56,
   "id": "external-pepper",
   "metadata": {},
   "outputs": [],
   "source": [
    "Rekognition_correct_guess.append(60.974)"
   ]
  },
  {
   "cell_type": "code",
   "execution_count": 57,
   "id": "featured-letters",
   "metadata": {},
   "outputs": [
    {
     "data": {
      "text/plain": [
       "[{'Type': 'CALM', 'Confidence': 55.068702697753906},\n",
       " {'Type': 'CONFUSED', 'Confidence': 34.704437255859375},\n",
       " {'Type': 'ANGRY', 'Confidence': 4.330223083496094},\n",
       " {'Type': 'SURPRISED', 'Confidence': 2.1891367435455322},\n",
       " {'Type': 'SAD', 'Confidence': 1.4796041250228882},\n",
       " {'Type': 'HAPPY', 'Confidence': 0.9626820683479309},\n",
       " {'Type': 'DISGUSTED', 'Confidence': 0.7576155066490173},\n",
       " {'Type': 'FEAR', 'Confidence': 0.5075992345809937}]"
      ]
     },
     "execution_count": 57,
     "metadata": {},
     "output_type": "execute_result"
    }
   ],
   "source": [
    "IMG_1057 = client.detect_faces(Image = {'S3Object':{'Bucket':'rekognition-project-files-2','Name':'IMG_1057.jpg'}}, Attributes = [\"ALL\"])\n",
    "IMG_1057['FaceDetails'][0]['Emotions']"
   ]
  },
  {
   "cell_type": "code",
   "execution_count": 58,
   "id": "matched-bottom",
   "metadata": {},
   "outputs": [
    {
     "data": {
      "text/plain": [
       "[0.235, 79.9, 0.782, 27.107, 63.805, 3.511, 60.974, 0.758]"
      ]
     },
     "execution_count": 58,
     "metadata": {},
     "output_type": "execute_result"
    }
   ],
   "source": [
    "Rekognition_correct_guess.append(0.758)"
   ]
  },
  {
   "cell_type": "code",
   "execution_count": 59,
   "id": "editorial-cycle",
   "metadata": {},
   "outputs": [
    {
     "data": {
      "text/plain": [
       "[{'Type': 'CONFUSED', 'Confidence': 45.633975982666016},\n",
       " {'Type': 'CALM', 'Confidence': 29.811338424682617},\n",
       " {'Type': 'SURPRISED', 'Confidence': 21.714256286621094},\n",
       " {'Type': 'HAPPY', 'Confidence': 1.1791322231292725},\n",
       " {'Type': 'DISGUSTED', 'Confidence': 0.7331124544143677},\n",
       " {'Type': 'ANGRY', 'Confidence': 0.36886361241340637},\n",
       " {'Type': 'SAD', 'Confidence': 0.3489123284816742},\n",
       " {'Type': 'FEAR', 'Confidence': 0.21040399372577667}]"
      ]
     },
     "execution_count": 59,
     "metadata": {},
     "output_type": "execute_result"
    }
   ],
   "source": [
    "IMG_1058 = client.detect_faces(Image = {'S3Object':{'Bucket':'rekognition-project-files-2','Name':'IMG_1058.jpg'}}, Attributes = [\"ALL\"])\n",
    "IMG_1058['FaceDetails'][0]['Emotions']"
   ]
  },
  {
   "cell_type": "code",
   "execution_count": 60,
   "id": "prescribed-xerox",
   "metadata": {},
   "outputs": [
    {
     "data": {
      "text/plain": [
       "[0.235, 79.9, 0.782, 27.107, 63.805, 3.511, 60.974, 0.758, 1.179]"
      ]
     },
     "execution_count": 60,
     "metadata": {},
     "output_type": "execute_result"
    }
   ],
   "source": [
    "Rekognition_correct_guess.append(1.179)"
   ]
  },
  {
   "cell_type": "code",
   "execution_count": 61,
   "id": "computational-headset",
   "metadata": {},
   "outputs": [
    {
     "data": {
      "text/plain": [
       "[{'Type': 'CALM', 'Confidence': 99.49554443359375},\n",
       " {'Type': 'HAPPY', 'Confidence': 0.26963964104652405},\n",
       " {'Type': 'SURPRISED', 'Confidence': 0.13025180995464325},\n",
       " {'Type': 'SAD', 'Confidence': 0.03567522391676903},\n",
       " {'Type': 'CONFUSED', 'Confidence': 0.024426499381661415},\n",
       " {'Type': 'DISGUSTED', 'Confidence': 0.018386639654636383},\n",
       " {'Type': 'ANGRY', 'Confidence': 0.01679202727973461},\n",
       " {'Type': 'FEAR', 'Confidence': 0.009273526258766651}]"
      ]
     },
     "execution_count": 61,
     "metadata": {},
     "output_type": "execute_result"
    }
   ],
   "source": [
    "IMG_1059 = client.detect_faces(Image = {'S3Object':{'Bucket':'rekognition-project-files-2','Name':'IMG_1059.jpg'}}, Attributes = [\"ALL\"])\n",
    "IMG_1059['FaceDetails'][0]['Emotions']"
   ]
  },
  {
   "cell_type": "code",
   "execution_count": 62,
   "id": "junior-industry",
   "metadata": {},
   "outputs": [],
   "source": [
    "Rekognition_correct_guess.append(99.500)"
   ]
  },
  {
   "cell_type": "code",
   "execution_count": 63,
   "id": "experimental-department",
   "metadata": {},
   "outputs": [
    {
     "data": {
      "text/plain": [
       "[{'Type': 'CONFUSED', 'Confidence': 88.46652221679688},\n",
       " {'Type': 'FEAR', 'Confidence': 5.533992290496826},\n",
       " {'Type': 'CALM', 'Confidence': 2.340035915374756},\n",
       " {'Type': 'SURPRISED', 'Confidence': 1.6847422122955322},\n",
       " {'Type': 'DISGUSTED', 'Confidence': 0.6858112812042236},\n",
       " {'Type': 'ANGRY', 'Confidence': 0.4742696285247803},\n",
       " {'Type': 'SAD', 'Confidence': 0.46784064173698425},\n",
       " {'Type': 'HAPPY', 'Confidence': 0.3467826843261719}]"
      ]
     },
     "execution_count": 63,
     "metadata": {},
     "output_type": "execute_result"
    }
   ],
   "source": [
    "IMG_1060 = client.detect_faces(Image = {'S3Object':{'Bucket':'rekognition-project-files-2','Name':'IMG_1060.jpg'}}, Attributes = [\"ALL\"])\n",
    "IMG_1060['FaceDetails'][0]['Emotions']"
   ]
  },
  {
   "cell_type": "code",
   "execution_count": 64,
   "id": "criminal-elements",
   "metadata": {},
   "outputs": [],
   "source": [
    "Rekognition_correct_guess.append(5.534)"
   ]
  },
  {
   "cell_type": "code",
   "execution_count": 65,
   "id": "spatial-following",
   "metadata": {},
   "outputs": [
    {
     "data": {
      "text/plain": [
       "[{'Type': 'CONFUSED', 'Confidence': 57.421016693115234},\n",
       " {'Type': 'CALM', 'Confidence': 28.28252410888672},\n",
       " {'Type': 'ANGRY', 'Confidence': 8.835787773132324},\n",
       " {'Type': 'SAD', 'Confidence': 1.8960565328598022},\n",
       " {'Type': 'DISGUSTED', 'Confidence': 1.1789451837539673},\n",
       " {'Type': 'SURPRISED', 'Confidence': 1.1024494171142578},\n",
       " {'Type': 'FEAR', 'Confidence': 0.6447007656097412},\n",
       " {'Type': 'HAPPY', 'Confidence': 0.6385155916213989}]"
      ]
     },
     "execution_count": 65,
     "metadata": {},
     "output_type": "execute_result"
    }
   ],
   "source": [
    "IMG_1061 = client.detect_faces(Image = {'S3Object':{'Bucket':'rekognition-project-files-2','Name':'IMG_1061.jpg'}}, Attributes = [\"ALL\"])\n",
    "IMG_1061['FaceDetails'][0]['Emotions']"
   ]
  },
  {
   "cell_type": "code",
   "execution_count": 66,
   "id": "alien-bulgarian",
   "metadata": {},
   "outputs": [],
   "source": [
    "Rekognition_correct_guess.append(1.179)"
   ]
  },
  {
   "cell_type": "code",
   "execution_count": 67,
   "id": "complex-buyer",
   "metadata": {},
   "outputs": [
    {
     "data": {
      "text/plain": [
       "[{'Type': 'CONFUSED', 'Confidence': 67.59928131103516},\n",
       " {'Type': 'CALM', 'Confidence': 27.62364959716797},\n",
       " {'Type': 'SAD', 'Confidence': 2.148782730102539},\n",
       " {'Type': 'SURPRISED', 'Confidence': 1.5265675783157349},\n",
       " {'Type': 'ANGRY', 'Confidence': 0.4000862240791321},\n",
       " {'Type': 'DISGUSTED', 'Confidence': 0.3264578878879547},\n",
       " {'Type': 'HAPPY', 'Confidence': 0.19666001200675964},\n",
       " {'Type': 'FEAR', 'Confidence': 0.17851237952709198}]"
      ]
     },
     "execution_count": 67,
     "metadata": {},
     "output_type": "execute_result"
    }
   ],
   "source": [
    "IMG_1062 = client.detect_faces(Image = {'S3Object':{'Bucket':'rekognition-project-files-2','Name':'IMG_1062.jpg'}}, Attributes = [\"ALL\"])\n",
    "IMG_1062['FaceDetails'][0]['Emotions']"
   ]
  },
  {
   "cell_type": "code",
   "execution_count": 68,
   "id": "personalized-vacuum",
   "metadata": {},
   "outputs": [],
   "source": [
    "Rekognition_correct_guess.append(27.624)"
   ]
  },
  {
   "cell_type": "code",
   "execution_count": 69,
   "id": "limiting-intensity",
   "metadata": {},
   "outputs": [
    {
     "data": {
      "text/plain": [
       "[{'Type': 'SURPRISED', 'Confidence': 70.77162170410156},\n",
       " {'Type': 'CONFUSED', 'Confidence': 18.294572830200195},\n",
       " {'Type': 'CALM', 'Confidence': 6.639038562774658},\n",
       " {'Type': 'SAD', 'Confidence': 1.3157707452774048},\n",
       " {'Type': 'HAPPY', 'Confidence': 1.060162901878357},\n",
       " {'Type': 'ANGRY', 'Confidence': 0.832323431968689},\n",
       " {'Type': 'DISGUSTED', 'Confidence': 0.5749778151512146},\n",
       " {'Type': 'FEAR', 'Confidence': 0.5115297436714172}]"
      ]
     },
     "execution_count": 69,
     "metadata": {},
     "output_type": "execute_result"
    }
   ],
   "source": [
    "IMG_1063 = client.detect_faces(Image = {'S3Object':{'Bucket':'rekognition-project-files-2','Name':'IMG_1063.jpg'}}, Attributes = [\"ALL\"])\n",
    "IMG_1063['FaceDetails'][0]['Emotions']"
   ]
  },
  {
   "cell_type": "code",
   "execution_count": 70,
   "id": "tested-toner",
   "metadata": {},
   "outputs": [],
   "source": [
    "Rekognition_correct_guess.append(70.772)"
   ]
  },
  {
   "cell_type": "code",
   "execution_count": 71,
   "id": "personal-magnet",
   "metadata": {},
   "outputs": [
    {
     "data": {
      "text/plain": [
       "[{'Type': 'CONFUSED', 'Confidence': 66.21255493164062},\n",
       " {'Type': 'CALM', 'Confidence': 25.5884952545166},\n",
       " {'Type': 'SAD', 'Confidence': 3.791544198989868},\n",
       " {'Type': 'SURPRISED', 'Confidence': 2.9206278324127197},\n",
       " {'Type': 'FEAR', 'Confidence': 0.5382110476493835},\n",
       " {'Type': 'ANGRY', 'Confidence': 0.3582361936569214},\n",
       " {'Type': 'DISGUSTED', 'Confidence': 0.31634852290153503},\n",
       " {'Type': 'HAPPY', 'Confidence': 0.27398258447647095}]"
      ]
     },
     "execution_count": 71,
     "metadata": {},
     "output_type": "execute_result"
    }
   ],
   "source": [
    "IMG_1064 = client.detect_faces(Image = {'S3Object':{'Bucket':'rekognition-project-files-2','Name':'IMG_1064.jpg'}}, Attributes = [\"ALL\"])\n",
    "IMG_1064['FaceDetails'][0]['Emotions']"
   ]
  },
  {
   "cell_type": "code",
   "execution_count": 72,
   "id": "prepared-output",
   "metadata": {},
   "outputs": [],
   "source": [
    "Rekognition_correct_guess.append(3.792)"
   ]
  },
  {
   "cell_type": "code",
   "execution_count": 73,
   "id": "statewide-family",
   "metadata": {},
   "outputs": [
    {
     "data": {
      "text/plain": [
       "[{'Type': 'CALM', 'Confidence': 97.76078033447266},\n",
       " {'Type': 'CONFUSED', 'Confidence': 1.0752453804016113},\n",
       " {'Type': 'SAD', 'Confidence': 0.5843960046768188},\n",
       " {'Type': 'ANGRY', 'Confidence': 0.1668180674314499},\n",
       " {'Type': 'SURPRISED', 'Confidence': 0.13920597732067108},\n",
       " {'Type': 'DISGUSTED', 'Confidence': 0.12930075824260712},\n",
       " {'Type': 'HAPPY', 'Confidence': 0.0837293341755867},\n",
       " {'Type': 'FEAR', 'Confidence': 0.06052185222506523}]"
      ]
     },
     "execution_count": 73,
     "metadata": {},
     "output_type": "execute_result"
    }
   ],
   "source": [
    "IMG_1065 = client.detect_faces(Image = {'S3Object':{'Bucket':'rekognition-project-files-2','Name':'IMG_1065.jpg'}}, Attributes = [\"ALL\"])\n",
    "IMG_1065['FaceDetails'][0]['Emotions']"
   ]
  },
  {
   "cell_type": "code",
   "execution_count": 74,
   "id": "several-dispute",
   "metadata": {},
   "outputs": [],
   "source": [
    "Rekognition_correct_guess.append(0.167)"
   ]
  },
  {
   "cell_type": "code",
   "execution_count": 75,
   "id": "together-advisory",
   "metadata": {},
   "outputs": [
    {
     "data": {
      "text/plain": [
       "[{'Type': 'CALM', 'Confidence': 79.51605987548828},\n",
       " {'Type': 'DISGUSTED', 'Confidence': 17.068758010864258},\n",
       " {'Type': 'ANGRY', 'Confidence': 2.7736408710479736},\n",
       " {'Type': 'SAD', 'Confidence': 0.26917293667793274},\n",
       " {'Type': 'SURPRISED', 'Confidence': 0.15356038510799408},\n",
       " {'Type': 'HAPPY', 'Confidence': 0.09198456257581711},\n",
       " {'Type': 'FEAR', 'Confidence': 0.07609587162733078},\n",
       " {'Type': 'CONFUSED', 'Confidence': 0.0507189966738224}]"
      ]
     },
     "execution_count": 75,
     "metadata": {},
     "output_type": "execute_result"
    }
   ],
   "source": [
    "IMG_1066 = client.detect_faces(Image = {'S3Object':{'Bucket':'rekognition-project-files-2','Name':'IMG_1066.jpg'}}, Attributes = [\"ALL\"])\n",
    "IMG_1066['FaceDetails'][0]['Emotions']"
   ]
  },
  {
   "cell_type": "code",
   "execution_count": 76,
   "id": "exciting-marine",
   "metadata": {},
   "outputs": [],
   "source": [
    "Rekognition_correct_guess.append(0.269)"
   ]
  },
  {
   "cell_type": "code",
   "execution_count": 77,
   "id": "improving-essay",
   "metadata": {},
   "outputs": [
    {
     "data": {
      "text/plain": [
       "[{'Type': 'ANGRY', 'Confidence': 76.23747253417969},\n",
       " {'Type': 'CONFUSED', 'Confidence': 22.61829376220703},\n",
       " {'Type': 'DISGUSTED', 'Confidence': 0.49762219190597534},\n",
       " {'Type': 'CALM', 'Confidence': 0.212632954120636},\n",
       " {'Type': 'HAPPY', 'Confidence': 0.12116767466068268},\n",
       " {'Type': 'SURPRISED', 'Confidence': 0.11992529034614563},\n",
       " {'Type': 'SAD', 'Confidence': 0.10588229447603226},\n",
       " {'Type': 'FEAR', 'Confidence': 0.08698562532663345}]"
      ]
     },
     "execution_count": 77,
     "metadata": {},
     "output_type": "execute_result"
    }
   ],
   "source": [
    "IMG_1067 = client.detect_faces(Image = {'S3Object':{'Bucket':'rekognition-project-files-2','Name':'IMG_1067.jpg'}}, Attributes = [\"ALL\"])\n",
    "IMG_1067['FaceDetails'][0]['Emotions']"
   ]
  },
  {
   "cell_type": "code",
   "execution_count": 78,
   "id": "average-player",
   "metadata": {},
   "outputs": [],
   "source": [
    "Rekognition_correct_guess.append(76.237)"
   ]
  },
  {
   "cell_type": "code",
   "execution_count": 79,
   "id": "bizarre-killer",
   "metadata": {},
   "outputs": [
    {
     "data": {
      "text/plain": [
       "[{'Type': 'CONFUSED', 'Confidence': 47.66054153442383},\n",
       " {'Type': 'CALM', 'Confidence': 34.51301574707031},\n",
       " {'Type': 'SAD', 'Confidence': 7.332658767700195},\n",
       " {'Type': 'FEAR', 'Confidence': 4.189472198486328},\n",
       " {'Type': 'ANGRY', 'Confidence': 3.2528162002563477},\n",
       " {'Type': 'SURPRISED', 'Confidence': 1.4356118440628052},\n",
       " {'Type': 'DISGUSTED', 'Confidence': 1.1538681983947754},\n",
       " {'Type': 'HAPPY', 'Confidence': 0.46201664209365845}]"
      ]
     },
     "execution_count": 79,
     "metadata": {},
     "output_type": "execute_result"
    }
   ],
   "source": [
    "IMG_1068 = client.detect_faces(Image = {'S3Object':{'Bucket':'rekognition-project-files-2','Name':'IMG_1068.jpg'}}, Attributes = [\"ALL\"])\n",
    "IMG_1068['FaceDetails'][0]['Emotions']"
   ]
  },
  {
   "cell_type": "code",
   "execution_count": 80,
   "id": "bearing-settlement",
   "metadata": {},
   "outputs": [],
   "source": [
    "Rekognition_correct_guess.append(7.333)"
   ]
  },
  {
   "cell_type": "code",
   "execution_count": 81,
   "id": "interesting-array",
   "metadata": {},
   "outputs": [
    {
     "data": {
      "text/plain": [
       "[{'Type': 'CONFUSED', 'Confidence': 90.35550689697266},\n",
       " {'Type': 'CALM', 'Confidence': 5.055395126342773},\n",
       " {'Type': 'SURPRISED', 'Confidence': 2.2542569637298584},\n",
       " {'Type': 'SAD', 'Confidence': 0.7233981490135193},\n",
       " {'Type': 'FEAR', 'Confidence': 0.5900794863700867},\n",
       " {'Type': 'ANGRY', 'Confidence': 0.4422526955604553},\n",
       " {'Type': 'DISGUSTED', 'Confidence': 0.30461859703063965},\n",
       " {'Type': 'HAPPY', 'Confidence': 0.2745022177696228}]"
      ]
     },
     "execution_count": 81,
     "metadata": {},
     "output_type": "execute_result"
    }
   ],
   "source": [
    "IMG_1069 = client.detect_faces(Image = {'S3Object':{'Bucket':'rekognition-project-files-2','Name':'IMG_1069.jpg'}}, Attributes = [\"ALL\"])\n",
    "IMG_1069['FaceDetails'][0]['Emotions']"
   ]
  },
  {
   "cell_type": "code",
   "execution_count": 82,
   "id": "received-comedy",
   "metadata": {},
   "outputs": [],
   "source": [
    "Rekognition_correct_guess.append(0.590)"
   ]
  },
  {
   "cell_type": "markdown",
   "id": "scenic-hacker",
   "metadata": {},
   "source": [
    "After appending all the values, we can check the length and then add to the dataset."
   ]
  },
  {
   "cell_type": "code",
   "execution_count": 83,
   "id": "norwegian-judges",
   "metadata": {},
   "outputs": [
    {
     "data": {
      "text/plain": [
       "20"
      ]
     },
     "execution_count": 83,
     "metadata": {},
     "output_type": "execute_result"
    }
   ],
   "source": [
    "len(Rekognition_correct_guess)"
   ]
  },
  {
   "cell_type": "markdown",
   "id": "polished-mineral",
   "metadata": {},
   "source": [
    "For simplicity's sake we can drop the empty Rekognition correct guess column and add our filled one."
   ]
  },
  {
   "cell_type": "code",
   "execution_count": 85,
   "id": "endless-letters",
   "metadata": {},
   "outputs": [
    {
     "data": {
      "text/html": [
       "<div>\n",
       "<style scoped>\n",
       "    .dataframe tbody tr th:only-of-type {\n",
       "        vertical-align: middle;\n",
       "    }\n",
       "\n",
       "    .dataframe tbody tr th {\n",
       "        vertical-align: top;\n",
       "    }\n",
       "\n",
       "    .dataframe thead th {\n",
       "        text-align: right;\n",
       "    }\n",
       "</style>\n",
       "<table border=\"1\" class=\"dataframe\">\n",
       "  <thead>\n",
       "    <tr style=\"text-align: right;\">\n",
       "      <th></th>\n",
       "      <th>Images</th>\n",
       "      <th>Happy</th>\n",
       "      <th>Confused</th>\n",
       "      <th>Calm</th>\n",
       "      <th>Sad</th>\n",
       "      <th>Fear</th>\n",
       "      <th>Angry</th>\n",
       "      <th>Surprised</th>\n",
       "      <th>Disgusted</th>\n",
       "      <th>Our correct guess</th>\n",
       "      <th>Answer</th>\n",
       "    </tr>\n",
       "  </thead>\n",
       "  <tbody>\n",
       "    <tr>\n",
       "      <th>0</th>\n",
       "      <td>IMG_1042.jpg</td>\n",
       "      <td>0</td>\n",
       "      <td>25</td>\n",
       "      <td>0</td>\n",
       "      <td>75</td>\n",
       "      <td>0</td>\n",
       "      <td>0</td>\n",
       "      <td>0</td>\n",
       "      <td>0</td>\n",
       "      <td>75</td>\n",
       "      <td>Sad</td>\n",
       "    </tr>\n",
       "    <tr>\n",
       "      <th>1</th>\n",
       "      <td>IMG_1043.jpg</td>\n",
       "      <td>25</td>\n",
       "      <td>0</td>\n",
       "      <td>75</td>\n",
       "      <td>0</td>\n",
       "      <td>0</td>\n",
       "      <td>0</td>\n",
       "      <td>0</td>\n",
       "      <td>0</td>\n",
       "      <td>75</td>\n",
       "      <td>Calm</td>\n",
       "    </tr>\n",
       "    <tr>\n",
       "      <th>2</th>\n",
       "      <td>IMG_1045.jpg</td>\n",
       "      <td>0</td>\n",
       "      <td>25</td>\n",
       "      <td>50</td>\n",
       "      <td>25</td>\n",
       "      <td>0</td>\n",
       "      <td>0</td>\n",
       "      <td>0</td>\n",
       "      <td>0</td>\n",
       "      <td>25</td>\n",
       "      <td>Confused</td>\n",
       "    </tr>\n",
       "    <tr>\n",
       "      <th>3</th>\n",
       "      <td>IMG_1046.jpg</td>\n",
       "      <td>25</td>\n",
       "      <td>0</td>\n",
       "      <td>0</td>\n",
       "      <td>0</td>\n",
       "      <td>25</td>\n",
       "      <td>25</td>\n",
       "      <td>0</td>\n",
       "      <td>25</td>\n",
       "      <td>0</td>\n",
       "      <td>Confused</td>\n",
       "    </tr>\n",
       "    <tr>\n",
       "      <th>4</th>\n",
       "      <td>IMG_1047.jpg</td>\n",
       "      <td>25</td>\n",
       "      <td>0</td>\n",
       "      <td>0</td>\n",
       "      <td>0</td>\n",
       "      <td>0</td>\n",
       "      <td>0</td>\n",
       "      <td>75</td>\n",
       "      <td>0</td>\n",
       "      <td>75</td>\n",
       "      <td>Surprised</td>\n",
       "    </tr>\n",
       "    <tr>\n",
       "      <th>5</th>\n",
       "      <td>IMG_1055.jpg</td>\n",
       "      <td>0</td>\n",
       "      <td>25</td>\n",
       "      <td>0</td>\n",
       "      <td>50</td>\n",
       "      <td>25</td>\n",
       "      <td>0</td>\n",
       "      <td>0</td>\n",
       "      <td>0</td>\n",
       "      <td>0</td>\n",
       "      <td>Surprised</td>\n",
       "    </tr>\n",
       "    <tr>\n",
       "      <th>6</th>\n",
       "      <td>IMG_1056.jpg</td>\n",
       "      <td>0</td>\n",
       "      <td>25</td>\n",
       "      <td>0</td>\n",
       "      <td>75</td>\n",
       "      <td>0</td>\n",
       "      <td>0</td>\n",
       "      <td>0</td>\n",
       "      <td>0</td>\n",
       "      <td>25</td>\n",
       "      <td>Confused</td>\n",
       "    </tr>\n",
       "    <tr>\n",
       "      <th>7</th>\n",
       "      <td>IMG_1057.jpg</td>\n",
       "      <td>0</td>\n",
       "      <td>0</td>\n",
       "      <td>0</td>\n",
       "      <td>0</td>\n",
       "      <td>0</td>\n",
       "      <td>50</td>\n",
       "      <td>0</td>\n",
       "      <td>50</td>\n",
       "      <td>50</td>\n",
       "      <td>Disgusted</td>\n",
       "    </tr>\n",
       "    <tr>\n",
       "      <th>8</th>\n",
       "      <td>IMG_1058.jpg</td>\n",
       "      <td>25</td>\n",
       "      <td>0</td>\n",
       "      <td>0</td>\n",
       "      <td>0</td>\n",
       "      <td>0</td>\n",
       "      <td>0</td>\n",
       "      <td>75</td>\n",
       "      <td>0</td>\n",
       "      <td>25</td>\n",
       "      <td>Happy</td>\n",
       "    </tr>\n",
       "    <tr>\n",
       "      <th>9</th>\n",
       "      <td>IMG_1059.jpg</td>\n",
       "      <td>25</td>\n",
       "      <td>25</td>\n",
       "      <td>0</td>\n",
       "      <td>0</td>\n",
       "      <td>0</td>\n",
       "      <td>0</td>\n",
       "      <td>50</td>\n",
       "      <td>0</td>\n",
       "      <td>0</td>\n",
       "      <td>Calm</td>\n",
       "    </tr>\n",
       "    <tr>\n",
       "      <th>10</th>\n",
       "      <td>IMG_1060.jpg</td>\n",
       "      <td>0</td>\n",
       "      <td>0</td>\n",
       "      <td>0</td>\n",
       "      <td>0</td>\n",
       "      <td>100</td>\n",
       "      <td>0</td>\n",
       "      <td>0</td>\n",
       "      <td>0</td>\n",
       "      <td>100</td>\n",
       "      <td>Fear</td>\n",
       "    </tr>\n",
       "    <tr>\n",
       "      <th>11</th>\n",
       "      <td>IMG_1061.jpg</td>\n",
       "      <td>0</td>\n",
       "      <td>0</td>\n",
       "      <td>0</td>\n",
       "      <td>0</td>\n",
       "      <td>0</td>\n",
       "      <td>50</td>\n",
       "      <td>0</td>\n",
       "      <td>50</td>\n",
       "      <td>50</td>\n",
       "      <td>Disgusted</td>\n",
       "    </tr>\n",
       "    <tr>\n",
       "      <th>12</th>\n",
       "      <td>IMG_1062.jpg</td>\n",
       "      <td>0</td>\n",
       "      <td>0</td>\n",
       "      <td>100</td>\n",
       "      <td>0</td>\n",
       "      <td>0</td>\n",
       "      <td>0</td>\n",
       "      <td>0</td>\n",
       "      <td>0</td>\n",
       "      <td>100</td>\n",
       "      <td>Calm</td>\n",
       "    </tr>\n",
       "    <tr>\n",
       "      <th>13</th>\n",
       "      <td>IMG_1063.jpg</td>\n",
       "      <td>25</td>\n",
       "      <td>0</td>\n",
       "      <td>0</td>\n",
       "      <td>0</td>\n",
       "      <td>0</td>\n",
       "      <td>0</td>\n",
       "      <td>75</td>\n",
       "      <td>0</td>\n",
       "      <td>25</td>\n",
       "      <td>Surprised</td>\n",
       "    </tr>\n",
       "    <tr>\n",
       "      <th>14</th>\n",
       "      <td>IMG_1064.jpg</td>\n",
       "      <td>0</td>\n",
       "      <td>25</td>\n",
       "      <td>25</td>\n",
       "      <td>25</td>\n",
       "      <td>0</td>\n",
       "      <td>0</td>\n",
       "      <td>25</td>\n",
       "      <td>0</td>\n",
       "      <td>25</td>\n",
       "      <td>Sad</td>\n",
       "    </tr>\n",
       "    <tr>\n",
       "      <th>15</th>\n",
       "      <td>IMG_1065.jpg</td>\n",
       "      <td>0</td>\n",
       "      <td>0</td>\n",
       "      <td>0</td>\n",
       "      <td>25</td>\n",
       "      <td>25</td>\n",
       "      <td>25</td>\n",
       "      <td>0</td>\n",
       "      <td>25</td>\n",
       "      <td>25</td>\n",
       "      <td>Angry</td>\n",
       "    </tr>\n",
       "    <tr>\n",
       "      <th>16</th>\n",
       "      <td>IMG_1066.jpg</td>\n",
       "      <td>0</td>\n",
       "      <td>50</td>\n",
       "      <td>25</td>\n",
       "      <td>25</td>\n",
       "      <td>0</td>\n",
       "      <td>0</td>\n",
       "      <td>0</td>\n",
       "      <td>0</td>\n",
       "      <td>25</td>\n",
       "      <td>Sad</td>\n",
       "    </tr>\n",
       "    <tr>\n",
       "      <th>17</th>\n",
       "      <td>IMG_1067.jpg</td>\n",
       "      <td>0</td>\n",
       "      <td>0</td>\n",
       "      <td>0</td>\n",
       "      <td>0</td>\n",
       "      <td>0</td>\n",
       "      <td>100</td>\n",
       "      <td>0</td>\n",
       "      <td>0</td>\n",
       "      <td>100</td>\n",
       "      <td>Angry</td>\n",
       "    </tr>\n",
       "    <tr>\n",
       "      <th>18</th>\n",
       "      <td>IMG_1068.jpg</td>\n",
       "      <td>0</td>\n",
       "      <td>0</td>\n",
       "      <td>0</td>\n",
       "      <td>100</td>\n",
       "      <td>0</td>\n",
       "      <td>0</td>\n",
       "      <td>0</td>\n",
       "      <td>0</td>\n",
       "      <td>100</td>\n",
       "      <td>Sad</td>\n",
       "    </tr>\n",
       "    <tr>\n",
       "      <th>19</th>\n",
       "      <td>IMG_1069.jpg</td>\n",
       "      <td>0</td>\n",
       "      <td>0</td>\n",
       "      <td>0</td>\n",
       "      <td>25</td>\n",
       "      <td>75</td>\n",
       "      <td>0</td>\n",
       "      <td>0</td>\n",
       "      <td>0</td>\n",
       "      <td>75</td>\n",
       "      <td>Fear</td>\n",
       "    </tr>\n",
       "  </tbody>\n",
       "</table>\n",
       "</div>"
      ],
      "text/plain": [
       "          Images  Happy  Confused  Calm  Sad  Fear  Angry  Surprised  \\\n",
       "0   IMG_1042.jpg      0        25     0   75     0      0          0   \n",
       "1   IMG_1043.jpg     25         0    75    0     0      0          0   \n",
       "2   IMG_1045.jpg      0        25    50   25     0      0          0   \n",
       "3   IMG_1046.jpg     25         0     0    0    25     25          0   \n",
       "4   IMG_1047.jpg     25         0     0    0     0      0         75   \n",
       "5   IMG_1055.jpg      0        25     0   50    25      0          0   \n",
       "6   IMG_1056.jpg      0        25     0   75     0      0          0   \n",
       "7   IMG_1057.jpg      0         0     0    0     0     50          0   \n",
       "8   IMG_1058.jpg     25         0     0    0     0      0         75   \n",
       "9   IMG_1059.jpg     25        25     0    0     0      0         50   \n",
       "10  IMG_1060.jpg      0         0     0    0   100      0          0   \n",
       "11  IMG_1061.jpg      0         0     0    0     0     50          0   \n",
       "12  IMG_1062.jpg      0         0   100    0     0      0          0   \n",
       "13  IMG_1063.jpg     25         0     0    0     0      0         75   \n",
       "14  IMG_1064.jpg      0        25    25   25     0      0         25   \n",
       "15  IMG_1065.jpg      0         0     0   25    25     25          0   \n",
       "16  IMG_1066.jpg      0        50    25   25     0      0          0   \n",
       "17  IMG_1067.jpg      0         0     0    0     0    100          0   \n",
       "18  IMG_1068.jpg      0         0     0  100     0      0          0   \n",
       "19  IMG_1069.jpg      0         0     0   25    75      0          0   \n",
       "\n",
       "    Disgusted  Our correct guess     Answer  \n",
       "0           0                 75        Sad  \n",
       "1           0                 75       Calm  \n",
       "2           0                 25   Confused  \n",
       "3          25                  0   Confused  \n",
       "4           0                 75  Surprised  \n",
       "5           0                  0  Surprised  \n",
       "6           0                 25   Confused  \n",
       "7          50                 50  Disgusted  \n",
       "8           0                 25      Happy  \n",
       "9           0                  0       Calm  \n",
       "10          0                100       Fear  \n",
       "11         50                 50  Disgusted  \n",
       "12          0                100       Calm  \n",
       "13          0                 25  Surprised  \n",
       "14          0                 25        Sad  \n",
       "15         25                 25      Angry  \n",
       "16          0                 25        Sad  \n",
       "17          0                100      Angry  \n",
       "18          0                100        Sad  \n",
       "19          0                 75       Fear  "
      ]
     },
     "execution_count": 85,
     "metadata": {},
     "output_type": "execute_result"
    }
   ],
   "source": [
    "data.drop(\"Rekognition's correct guess\", axis = 1)"
   ]
  },
  {
   "cell_type": "markdown",
   "id": "hairy-bridge",
   "metadata": {},
   "source": [
    "Now we can add the new column."
   ]
  },
  {
   "cell_type": "code",
   "execution_count": 88,
   "id": "standing-secondary",
   "metadata": {},
   "outputs": [],
   "source": [
    "data[\"Rekognition's correct guess\"] = Rekognition_correct_guess"
   ]
  },
  {
   "cell_type": "code",
   "execution_count": 89,
   "id": "toxic-vacuum",
   "metadata": {},
   "outputs": [
    {
     "data": {
      "text/html": [
       "<div>\n",
       "<style scoped>\n",
       "    .dataframe tbody tr th:only-of-type {\n",
       "        vertical-align: middle;\n",
       "    }\n",
       "\n",
       "    .dataframe tbody tr th {\n",
       "        vertical-align: top;\n",
       "    }\n",
       "\n",
       "    .dataframe thead th {\n",
       "        text-align: right;\n",
       "    }\n",
       "</style>\n",
       "<table border=\"1\" class=\"dataframe\">\n",
       "  <thead>\n",
       "    <tr style=\"text-align: right;\">\n",
       "      <th></th>\n",
       "      <th>Images</th>\n",
       "      <th>Happy</th>\n",
       "      <th>Confused</th>\n",
       "      <th>Calm</th>\n",
       "      <th>Sad</th>\n",
       "      <th>Fear</th>\n",
       "      <th>Angry</th>\n",
       "      <th>Surprised</th>\n",
       "      <th>Disgusted</th>\n",
       "      <th>Our correct guess</th>\n",
       "      <th>Rekognition's correct guess</th>\n",
       "      <th>Answer</th>\n",
       "    </tr>\n",
       "  </thead>\n",
       "  <tbody>\n",
       "    <tr>\n",
       "      <th>0</th>\n",
       "      <td>IMG_1042.jpg</td>\n",
       "      <td>0</td>\n",
       "      <td>25</td>\n",
       "      <td>0</td>\n",
       "      <td>75</td>\n",
       "      <td>0</td>\n",
       "      <td>0</td>\n",
       "      <td>0</td>\n",
       "      <td>0</td>\n",
       "      <td>75</td>\n",
       "      <td>0.235</td>\n",
       "      <td>Sad</td>\n",
       "    </tr>\n",
       "    <tr>\n",
       "      <th>1</th>\n",
       "      <td>IMG_1043.jpg</td>\n",
       "      <td>25</td>\n",
       "      <td>0</td>\n",
       "      <td>75</td>\n",
       "      <td>0</td>\n",
       "      <td>0</td>\n",
       "      <td>0</td>\n",
       "      <td>0</td>\n",
       "      <td>0</td>\n",
       "      <td>75</td>\n",
       "      <td>79.900</td>\n",
       "      <td>Calm</td>\n",
       "    </tr>\n",
       "    <tr>\n",
       "      <th>2</th>\n",
       "      <td>IMG_1045.jpg</td>\n",
       "      <td>0</td>\n",
       "      <td>25</td>\n",
       "      <td>50</td>\n",
       "      <td>25</td>\n",
       "      <td>0</td>\n",
       "      <td>0</td>\n",
       "      <td>0</td>\n",
       "      <td>0</td>\n",
       "      <td>25</td>\n",
       "      <td>0.782</td>\n",
       "      <td>Confused</td>\n",
       "    </tr>\n",
       "    <tr>\n",
       "      <th>3</th>\n",
       "      <td>IMG_1046.jpg</td>\n",
       "      <td>25</td>\n",
       "      <td>0</td>\n",
       "      <td>0</td>\n",
       "      <td>0</td>\n",
       "      <td>25</td>\n",
       "      <td>25</td>\n",
       "      <td>0</td>\n",
       "      <td>25</td>\n",
       "      <td>0</td>\n",
       "      <td>27.107</td>\n",
       "      <td>Confused</td>\n",
       "    </tr>\n",
       "    <tr>\n",
       "      <th>4</th>\n",
       "      <td>IMG_1047.jpg</td>\n",
       "      <td>25</td>\n",
       "      <td>0</td>\n",
       "      <td>0</td>\n",
       "      <td>0</td>\n",
       "      <td>0</td>\n",
       "      <td>0</td>\n",
       "      <td>75</td>\n",
       "      <td>0</td>\n",
       "      <td>75</td>\n",
       "      <td>63.805</td>\n",
       "      <td>Surprised</td>\n",
       "    </tr>\n",
       "    <tr>\n",
       "      <th>5</th>\n",
       "      <td>IMG_1055.jpg</td>\n",
       "      <td>0</td>\n",
       "      <td>25</td>\n",
       "      <td>0</td>\n",
       "      <td>50</td>\n",
       "      <td>25</td>\n",
       "      <td>0</td>\n",
       "      <td>0</td>\n",
       "      <td>0</td>\n",
       "      <td>0</td>\n",
       "      <td>3.511</td>\n",
       "      <td>Surprised</td>\n",
       "    </tr>\n",
       "    <tr>\n",
       "      <th>6</th>\n",
       "      <td>IMG_1056.jpg</td>\n",
       "      <td>0</td>\n",
       "      <td>25</td>\n",
       "      <td>0</td>\n",
       "      <td>75</td>\n",
       "      <td>0</td>\n",
       "      <td>0</td>\n",
       "      <td>0</td>\n",
       "      <td>0</td>\n",
       "      <td>25</td>\n",
       "      <td>60.974</td>\n",
       "      <td>Confused</td>\n",
       "    </tr>\n",
       "    <tr>\n",
       "      <th>7</th>\n",
       "      <td>IMG_1057.jpg</td>\n",
       "      <td>0</td>\n",
       "      <td>0</td>\n",
       "      <td>0</td>\n",
       "      <td>0</td>\n",
       "      <td>0</td>\n",
       "      <td>50</td>\n",
       "      <td>0</td>\n",
       "      <td>50</td>\n",
       "      <td>50</td>\n",
       "      <td>0.758</td>\n",
       "      <td>Disgusted</td>\n",
       "    </tr>\n",
       "    <tr>\n",
       "      <th>8</th>\n",
       "      <td>IMG_1058.jpg</td>\n",
       "      <td>25</td>\n",
       "      <td>0</td>\n",
       "      <td>0</td>\n",
       "      <td>0</td>\n",
       "      <td>0</td>\n",
       "      <td>0</td>\n",
       "      <td>75</td>\n",
       "      <td>0</td>\n",
       "      <td>25</td>\n",
       "      <td>1.179</td>\n",
       "      <td>Happy</td>\n",
       "    </tr>\n",
       "    <tr>\n",
       "      <th>9</th>\n",
       "      <td>IMG_1059.jpg</td>\n",
       "      <td>25</td>\n",
       "      <td>25</td>\n",
       "      <td>0</td>\n",
       "      <td>0</td>\n",
       "      <td>0</td>\n",
       "      <td>0</td>\n",
       "      <td>50</td>\n",
       "      <td>0</td>\n",
       "      <td>0</td>\n",
       "      <td>99.500</td>\n",
       "      <td>Calm</td>\n",
       "    </tr>\n",
       "    <tr>\n",
       "      <th>10</th>\n",
       "      <td>IMG_1060.jpg</td>\n",
       "      <td>0</td>\n",
       "      <td>0</td>\n",
       "      <td>0</td>\n",
       "      <td>0</td>\n",
       "      <td>100</td>\n",
       "      <td>0</td>\n",
       "      <td>0</td>\n",
       "      <td>0</td>\n",
       "      <td>100</td>\n",
       "      <td>5.534</td>\n",
       "      <td>Fear</td>\n",
       "    </tr>\n",
       "    <tr>\n",
       "      <th>11</th>\n",
       "      <td>IMG_1061.jpg</td>\n",
       "      <td>0</td>\n",
       "      <td>0</td>\n",
       "      <td>0</td>\n",
       "      <td>0</td>\n",
       "      <td>0</td>\n",
       "      <td>50</td>\n",
       "      <td>0</td>\n",
       "      <td>50</td>\n",
       "      <td>50</td>\n",
       "      <td>1.179</td>\n",
       "      <td>Disgusted</td>\n",
       "    </tr>\n",
       "    <tr>\n",
       "      <th>12</th>\n",
       "      <td>IMG_1062.jpg</td>\n",
       "      <td>0</td>\n",
       "      <td>0</td>\n",
       "      <td>100</td>\n",
       "      <td>0</td>\n",
       "      <td>0</td>\n",
       "      <td>0</td>\n",
       "      <td>0</td>\n",
       "      <td>0</td>\n",
       "      <td>100</td>\n",
       "      <td>27.624</td>\n",
       "      <td>Calm</td>\n",
       "    </tr>\n",
       "    <tr>\n",
       "      <th>13</th>\n",
       "      <td>IMG_1063.jpg</td>\n",
       "      <td>25</td>\n",
       "      <td>0</td>\n",
       "      <td>0</td>\n",
       "      <td>0</td>\n",
       "      <td>0</td>\n",
       "      <td>0</td>\n",
       "      <td>75</td>\n",
       "      <td>0</td>\n",
       "      <td>25</td>\n",
       "      <td>70.772</td>\n",
       "      <td>Surprised</td>\n",
       "    </tr>\n",
       "    <tr>\n",
       "      <th>14</th>\n",
       "      <td>IMG_1064.jpg</td>\n",
       "      <td>0</td>\n",
       "      <td>25</td>\n",
       "      <td>25</td>\n",
       "      <td>25</td>\n",
       "      <td>0</td>\n",
       "      <td>0</td>\n",
       "      <td>25</td>\n",
       "      <td>0</td>\n",
       "      <td>25</td>\n",
       "      <td>3.792</td>\n",
       "      <td>Sad</td>\n",
       "    </tr>\n",
       "    <tr>\n",
       "      <th>15</th>\n",
       "      <td>IMG_1065.jpg</td>\n",
       "      <td>0</td>\n",
       "      <td>0</td>\n",
       "      <td>0</td>\n",
       "      <td>25</td>\n",
       "      <td>25</td>\n",
       "      <td>25</td>\n",
       "      <td>0</td>\n",
       "      <td>25</td>\n",
       "      <td>25</td>\n",
       "      <td>0.167</td>\n",
       "      <td>Angry</td>\n",
       "    </tr>\n",
       "    <tr>\n",
       "      <th>16</th>\n",
       "      <td>IMG_1066.jpg</td>\n",
       "      <td>0</td>\n",
       "      <td>50</td>\n",
       "      <td>25</td>\n",
       "      <td>25</td>\n",
       "      <td>0</td>\n",
       "      <td>0</td>\n",
       "      <td>0</td>\n",
       "      <td>0</td>\n",
       "      <td>25</td>\n",
       "      <td>0.269</td>\n",
       "      <td>Sad</td>\n",
       "    </tr>\n",
       "    <tr>\n",
       "      <th>17</th>\n",
       "      <td>IMG_1067.jpg</td>\n",
       "      <td>0</td>\n",
       "      <td>0</td>\n",
       "      <td>0</td>\n",
       "      <td>0</td>\n",
       "      <td>0</td>\n",
       "      <td>100</td>\n",
       "      <td>0</td>\n",
       "      <td>0</td>\n",
       "      <td>100</td>\n",
       "      <td>76.237</td>\n",
       "      <td>Angry</td>\n",
       "    </tr>\n",
       "    <tr>\n",
       "      <th>18</th>\n",
       "      <td>IMG_1068.jpg</td>\n",
       "      <td>0</td>\n",
       "      <td>0</td>\n",
       "      <td>0</td>\n",
       "      <td>100</td>\n",
       "      <td>0</td>\n",
       "      <td>0</td>\n",
       "      <td>0</td>\n",
       "      <td>0</td>\n",
       "      <td>100</td>\n",
       "      <td>7.333</td>\n",
       "      <td>Sad</td>\n",
       "    </tr>\n",
       "    <tr>\n",
       "      <th>19</th>\n",
       "      <td>IMG_1069.jpg</td>\n",
       "      <td>0</td>\n",
       "      <td>0</td>\n",
       "      <td>0</td>\n",
       "      <td>25</td>\n",
       "      <td>75</td>\n",
       "      <td>0</td>\n",
       "      <td>0</td>\n",
       "      <td>0</td>\n",
       "      <td>75</td>\n",
       "      <td>0.590</td>\n",
       "      <td>Fear</td>\n",
       "    </tr>\n",
       "  </tbody>\n",
       "</table>\n",
       "</div>"
      ],
      "text/plain": [
       "          Images  Happy  Confused  Calm  Sad  Fear  Angry  Surprised  \\\n",
       "0   IMG_1042.jpg      0        25     0   75     0      0          0   \n",
       "1   IMG_1043.jpg     25         0    75    0     0      0          0   \n",
       "2   IMG_1045.jpg      0        25    50   25     0      0          0   \n",
       "3   IMG_1046.jpg     25         0     0    0    25     25          0   \n",
       "4   IMG_1047.jpg     25         0     0    0     0      0         75   \n",
       "5   IMG_1055.jpg      0        25     0   50    25      0          0   \n",
       "6   IMG_1056.jpg      0        25     0   75     0      0          0   \n",
       "7   IMG_1057.jpg      0         0     0    0     0     50          0   \n",
       "8   IMG_1058.jpg     25         0     0    0     0      0         75   \n",
       "9   IMG_1059.jpg     25        25     0    0     0      0         50   \n",
       "10  IMG_1060.jpg      0         0     0    0   100      0          0   \n",
       "11  IMG_1061.jpg      0         0     0    0     0     50          0   \n",
       "12  IMG_1062.jpg      0         0   100    0     0      0          0   \n",
       "13  IMG_1063.jpg     25         0     0    0     0      0         75   \n",
       "14  IMG_1064.jpg      0        25    25   25     0      0         25   \n",
       "15  IMG_1065.jpg      0         0     0   25    25     25          0   \n",
       "16  IMG_1066.jpg      0        50    25   25     0      0          0   \n",
       "17  IMG_1067.jpg      0         0     0    0     0    100          0   \n",
       "18  IMG_1068.jpg      0         0     0  100     0      0          0   \n",
       "19  IMG_1069.jpg      0         0     0   25    75      0          0   \n",
       "\n",
       "    Disgusted  Our correct guess  Rekognition's correct guess     Answer  \n",
       "0           0                 75                        0.235        Sad  \n",
       "1           0                 75                       79.900       Calm  \n",
       "2           0                 25                        0.782   Confused  \n",
       "3          25                  0                       27.107   Confused  \n",
       "4           0                 75                       63.805  Surprised  \n",
       "5           0                  0                        3.511  Surprised  \n",
       "6           0                 25                       60.974   Confused  \n",
       "7          50                 50                        0.758  Disgusted  \n",
       "8           0                 25                        1.179      Happy  \n",
       "9           0                  0                       99.500       Calm  \n",
       "10          0                100                        5.534       Fear  \n",
       "11         50                 50                        1.179  Disgusted  \n",
       "12          0                100                       27.624       Calm  \n",
       "13          0                 25                       70.772  Surprised  \n",
       "14          0                 25                        3.792        Sad  \n",
       "15         25                 25                        0.167      Angry  \n",
       "16          0                 25                        0.269        Sad  \n",
       "17          0                100                       76.237      Angry  \n",
       "18          0                100                        7.333        Sad  \n",
       "19          0                 75                        0.590       Fear  "
      ]
     },
     "execution_count": 89,
     "metadata": {},
     "output_type": "execute_result"
    }
   ],
   "source": [
    "data"
   ]
  },
  {
   "cell_type": "markdown",
   "id": "medical-perspective",
   "metadata": {},
   "source": [
    "Great! Now we can export our Dataframe."
   ]
  },
  {
   "cell_type": "code",
   "execution_count": 92,
   "id": "emerging-complexity",
   "metadata": {},
   "outputs": [],
   "source": [
    "data.to_csv(\"QTM_350.csv\")"
   ]
  },
  {
   "cell_type": "code",
   "execution_count": null,
   "id": "simplified-moscow",
   "metadata": {},
   "outputs": [],
   "source": []
  }
 ],
 "metadata": {
  "kernelspec": {
   "display_name": "conda_amazonei_tensorflow2_p36",
   "language": "python",
   "name": "conda_amazonei_tensorflow2_p36"
  },
  "language_info": {
   "codemirror_mode": {
    "name": "ipython",
    "version": 3
   },
   "file_extension": ".py",
   "mimetype": "text/x-python",
   "name": "python",
   "nbconvert_exporter": "python",
   "pygments_lexer": "ipython3",
   "version": "3.6.13"
  }
 },
 "nbformat": 4,
 "nbformat_minor": 5
}
