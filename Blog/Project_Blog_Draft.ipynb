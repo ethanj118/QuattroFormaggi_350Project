{
  "nbformat": 4,
  "nbformat_minor": 0,
  "metadata": {
    "colab": {
      "name": "Project_Blog.ipynb",
      "provenance": []
    },
    "kernelspec": {
      "name": "python3",
      "display_name": "Python 3"
    },
    "language_info": {
      "name": "python"
    }
  },
  "cells": [
    {
      "cell_type": "markdown",
      "metadata": {
        "id": "M2QYBpAWVarQ"
      },
      "source": [
        "# **Amazon Rekognition and Facial Expressions**\n",
        "\n",
        "## **Quattro Formaggi**\n",
        "\n",
        "##### Haozhou Huang, Luna Li, Charlie Mather, Ethan Jampel, Feiyang Xue\n",
        "\n"
      ]
    },
    {
      "cell_type": "markdown",
      "metadata": {
        "id": "hUOzGadCX5X0"
      },
      "source": [
        "Facial recognition and machine learning technologies have a wide variety of uses, and have become more widespread in recent years. One of these uses is the recognition of facial expressions and emotions. Using machine learning and streams of data, algorithms can be trained to predict one's emotions based on a picture of their face and expression. This technology has widespread uses, and one of our group members has experience with it from an internship application. She was provided with a set of pictures of people making subtle facial expressions, and was asked to predict the emotion the facial expression represented. We were interested in seeing how Amazon Rekognition would do with this same task. This blog details our findings and compares them with what a human might respond. This task can point to whether or not recognition of emotion might be an area where facial recognition software can continue to grow, or if humans are still better at understanding the feelings of other humans."
      ]
    }
  ]
}